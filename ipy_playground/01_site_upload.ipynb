{
 "metadata": {
  "name": "",
  "signature": "sha256:997e69f0c11f00400d2e804521fed8dab435142972c455beb8de7e7c18d2c27a"
 },
 "nbformat": 3,
 "nbformat_minor": 0,
 "worksheets": [
  {
   "cells": [
    {
     "cell_type": "code",
     "collapsed": false,
     "input": [
      "from bs4 import BeautifulSoup\n",
      "import requests\n",
      "\n",
      "from pathlib import Path\n",
      "import re\n",
      "import urllib"
     ],
     "language": "python",
     "metadata": {},
     "outputs": [],
     "prompt_number": 1
    },
    {
     "cell_type": "code",
     "collapsed": false,
     "input": [
      "_login_info_error_msg = '''\\\n",
      "Something wrong with reading login info.\n",
      "Edit file .web_keychain with following format:\n",
      "\n",
      "    Account: 'YOUR ACCOUNT'\n",
      "    Password: 'PASSWORD'\n",
      "'''"
     ],
     "language": "python",
     "metadata": {},
     "outputs": [],
     "prompt_number": 2
    },
    {
     "cell_type": "code",
     "collapsed": false,
     "input": [
      "class SiteConnector:\n",
      "    def __init__(self, login_url, logout_url, edit_url):\n",
      "        self._session = requests.session()\n",
      "        self.login_url = login_url\n",
      "        self.logout_url = login_url\n",
      "        self.edit_url = edit_url\n",
      "    \n",
      "    def login(self, keychain_pth='../.web_keychain'):\n",
      "        try:\n",
      "            ACCOUNT, PASSWORD = self._read_keychain(keychain_pth)\n",
      "        except Exception as e:\n",
      "            print(_login_info_error_msg)\n",
      "            raise e\n",
      "        r = self._session.get(self.login_url)\n",
      "        login_payload = {\n",
      "            'username': ACCOUNT,\n",
      "            'password': PASSWORD,\n",
      "            'csrfmiddlewaretoken': r.cookies['csrftoken']\n",
      "        }\n",
      "        r = self._session.post(\n",
      "            self.login_url,\n",
      "            data=login_payload,\n",
      "            headers={'Referer': self.login_url}\n",
      "        )\n",
      "        if r.status_code != 200:\n",
      "            raise urllib.error.HTTPError(reason='Login fail')\n",
      "        return r\n",
      "\n",
      "    def logout(self):\n",
      "        self._session.get(self.logout_url)\n",
      "        \n",
      "    def upload(self, page_url, page_html_pth):\n",
      "        with open(page_html_pth) as f:\n",
      "            html_text = f.read().replace('\\n', '')\n",
      "        \n",
      "        r = self._session.get(page_url)\n",
      "        soup = BeautifulSoup(r.content)\n",
      "        content_form = soup.select('form.editable-form')[0]\n",
      "        update_page_payload = self.gen_form_payload(content_form)\n",
      "        update_page_payload['content'] = html_text.replace('\\n','')\n",
      "        \n",
      "        r = self._session.post(\n",
      "            self.edit_url, \n",
      "            data=update_page_payload,\n",
      "            headers={'Referer': page_url}\n",
      "        )\n",
      "        if r.status_code != 200:\n",
      "            raise urllib.error.HTTPError(reason='Update {} fail'.format(page_url))\n",
      "        return r\n",
      "    \n",
      "    def gen_form_payload(self, form_soup):\n",
      "        def get_input_value(input_name):\n",
      "            return form_soup.find('input', attrs={'name': input_name}).attrs['value']\n",
      "\n",
      "        return {\n",
      "            k: get_input_value(k)\n",
      "            for k in ['app', 'model', 'id', 'fields', 'csrfmiddlewaretoken']\n",
      "        }\n",
      "    \n",
      "    def _read_keychain(self, keychain_pth):\n",
      "        _field_pattern = (\n",
      "            r'^{display:s}'                   # Account\n",
      "            r'\\s*:\\s*'                        # : \n",
      "            r'''(['\"]?)(?P<field>\\S+)\\1'''    # myacc, or 'myacc', \"myacc\" if containing spaces\n",
      "        )\n",
      "        with open(keychain_pth) as f:\n",
      "            ACCOUNT = re.match(_field_pattern.format(display='Account'), next(f)).group('field')\n",
      "            PASSWORD = re.match(_field_pattern.format(display='Password'), next(f)).group('field')\n",
      "        return ACCOUNT, PASSWORD"
     ],
     "language": "python",
     "metadata": {},
     "outputs": [],
     "prompt_number": 3
    },
    {
     "cell_type": "code",
     "collapsed": false,
     "input": [
      "site = SiteConnector(\n",
      "    login_url='https://tw.pycon.org/2015apac/en/accounts/login',\n",
      "    logout_url='https://tw.pycon.org/2015apac/en/accounts/logout',\n",
      "    edit_url='https://tw.pycon.org/2015apac/en/edit/'\n",
      ")"
     ],
     "language": "python",
     "metadata": {},
     "outputs": [],
     "prompt_number": 4
    },
    {
     "cell_type": "code",
     "collapsed": false,
     "input": [
      "site.login(keychain_pth='../../.web_keychain')"
     ],
     "language": "python",
     "metadata": {},
     "outputs": [
      {
       "metadata": {},
       "output_type": "pyout",
       "prompt_number": 5,
       "text": [
        "<Response [200]>"
       ]
      }
     ],
     "prompt_number": 5
    },
    {
     "cell_type": "code",
     "collapsed": false,
     "input": [
      "site.upload('https://tw.pycon.org/2015apac/en/venue/', 'venue.html')"
     ],
     "language": "python",
     "metadata": {},
     "outputs": [
      {
       "metadata": {},
       "output_type": "pyout",
       "prompt_number": 6,
       "text": [
        "<Response [200]>"
       ]
      }
     ],
     "prompt_number": 6
    }
   ],
   "metadata": {}
  }
 ]
}