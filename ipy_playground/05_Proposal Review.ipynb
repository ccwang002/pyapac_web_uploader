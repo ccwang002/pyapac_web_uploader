{
 "cells": [
  {
   "cell_type": "code",
   "execution_count": 1,
   "metadata": {
    "collapsed": true
   },
   "outputs": [],
   "source": [
    "from pathlib import Path\n",
    "import re\n",
    "import urllib\n",
    "\n",
    "from bs4 import BeautifulSoup\n",
    "import requests\n",
    "\n",
    "import pandas as pd"
   ]
  },
  {
   "cell_type": "code",
   "execution_count": 2,
   "metadata": {
    "collapsed": true
   },
   "outputs": [],
   "source": [
    "from pyapacweb import SiteConnector"
   ]
  },
  {
   "cell_type": "code",
   "execution_count": 6,
   "metadata": {
    "collapsed": false
   },
   "outputs": [
    {
     "data": {
      "text/plain": [
       "<Response [200]>"
      ]
     },
     "execution_count": 6,
     "metadata": {},
     "output_type": "execute_result"
    }
   ],
   "source": [
    "# login\n",
    "site = SiteConnector(url_base='https://tw.pycon.org/2015apac', lang='en')\n",
    "r = site.login(keychain_pth='./.web_keychain')\n",
    "r"
   ]
  },
  {
   "cell_type": "code",
   "execution_count": 7,
   "metadata": {
    "collapsed": true
   },
   "outputs": [],
   "source": [
    "proposal_review_url = (\n",
    "    r'https://tw.pycon.org/2015apac/en/'\n",
    "    r'proposal_review/proposals'\n",
    ")"
   ]
  },
  {
   "cell_type": "code",
   "execution_count": 8,
   "metadata": {
    "collapsed": true
   },
   "outputs": [],
   "source": [
    "r = site._session.get(proposal_review_url)\n",
    "soup = BeautifulSoup(r.content)"
   ]
  },
  {
   "cell_type": "code",
   "execution_count": 9,
   "metadata": {
    "collapsed": true
   },
   "outputs": [],
   "source": [
    "table = soup.find('table')"
   ]
  },
  {
   "cell_type": "code",
   "execution_count": 40,
   "metadata": {
    "collapsed": true
   },
   "outputs": [],
   "source": [
    "def make_review_table(table):\n",
    "    def review_status(text):\n",
    "        if text == 'Update':\n",
    "            return True\n",
    "        elif text == 'Review':\n",
    "            return False\n",
    "        else:\n",
    "            return pd.np.nan\n",
    "        \n",
    "    def convert_col(col, dtype):\n",
    "        tmp = col.copy()\n",
    "        tmp[tmp == '－－－'] = pd.np.nan\n",
    "        return tmp.astype(dtype)\n",
    "    \n",
    "    df = pd.io.html.read_html(str(table))[0]\n",
    "    df_out = df.loc[:, ['ID', 'Author', 'Lang', 'Title', 'Speech Type', 'Reviews', 'Sum. Rank', 'Avg. Rank']]\n",
    "    df_out['Review Status'] = df['Action'].apply(review_status)\n",
    "    for col, col_type in zip(\n",
    "        ['Reviews', 'Sum. Rank', 'Avg. Rank'],\n",
    "        [int] * 2 + [float] * 1\n",
    "    ):\n",
    "        df_out[col] = convert_col(df_out.loc[:, col], float)\n",
    "        \n",
    "    return df_out"
   ]
  },
  {
   "cell_type": "code",
   "execution_count": 43,
   "metadata": {
    "collapsed": true
   },
   "outputs": [],
   "source": [
    "def get_review_url(talk_id):\n",
    "    return (\n",
    "        r'https://tw.pycon.org/2015apac/en/'\n",
    "        r'proposal_review/review/{}/'.format(talk_id)\n",
    "    )"
   ]
  },
  {
   "cell_type": "code",
   "execution_count": 41,
   "metadata": {
    "collapsed": false
   },
   "outputs": [],
   "source": [
    "df_talks = make_review_table(table)"
   ]
  },
  {
   "cell_type": "code",
   "execution_count": 45,
   "metadata": {
    "collapsed": false
   },
   "outputs": [
    {
     "data": {
      "text/html": [
       "<div style=\"max-height:1000px;max-width:1500px;overflow:auto;\">\n",
       "<table border=\"1\" class=\"dataframe\">\n",
       "  <thead>\n",
       "    <tr style=\"text-align: right;\">\n",
       "      <th></th>\n",
       "      <th>ID</th>\n",
       "      <th>Author</th>\n",
       "      <th>Lang</th>\n",
       "      <th>Title</th>\n",
       "      <th>Speech Type</th>\n",
       "      <th>Reviews</th>\n",
       "      <th>Sum. Rank</th>\n",
       "      <th>Avg. Rank</th>\n",
       "      <th>Review Status</th>\n",
       "    </tr>\n",
       "  </thead>\n",
       "  <tbody>\n",
       "    <tr>\n",
       "      <th>0</th>\n",
       "      <td> 106</td>\n",
       "      <td>            NaN</td>\n",
       "      <td>  English</td>\n",
       "      <td>                                             test</td>\n",
       "      <td> Regular Talk</td>\n",
       "      <td> 7</td>\n",
       "      <td> 20</td>\n",
       "      <td> 2.86</td>\n",
       "      <td>  True</td>\n",
       "    </tr>\n",
       "    <tr>\n",
       "      <th>1</th>\n",
       "      <td> 104</td>\n",
       "      <td>     Scott Tsai</td>\n",
       "      <td>  English</td>\n",
       "      <td>       Programmatic Debugging with GDB and Python</td>\n",
       "      <td> Regular Talk</td>\n",
       "      <td> 2</td>\n",
       "      <td>  5</td>\n",
       "      <td> 2.50</td>\n",
       "      <td> False</td>\n",
       "    </tr>\n",
       "    <tr>\n",
       "      <th>2</th>\n",
       "      <td> 103</td>\n",
       "      <td>    Summit Suen</td>\n",
       "      <td>  English</td>\n",
       "      <td>                            Play Data, Play Ball!</td>\n",
       "      <td> Regular Talk</td>\n",
       "      <td> 3</td>\n",
       "      <td> 12</td>\n",
       "      <td> 4.00</td>\n",
       "      <td> False</td>\n",
       "    </tr>\n",
       "    <tr>\n",
       "      <th>3</th>\n",
       "      <td> 102</td>\n",
       "      <td>   Ko-Lung Yuan</td>\n",
       "      <td> Mandarin</td>\n",
       "      <td>                         Python與電子設計自動化：用愛與堅持實現專業</td>\n",
       "      <td> Regular Talk</td>\n",
       "      <td> 6</td>\n",
       "      <td> 26</td>\n",
       "      <td> 4.33</td>\n",
       "      <td>  True</td>\n",
       "    </tr>\n",
       "    <tr>\n",
       "      <th>4</th>\n",
       "      <td> 101</td>\n",
       "      <td> Chia-Chi Chang</td>\n",
       "      <td>  English</td>\n",
       "      <td> How to build a recommendation system with python</td>\n",
       "      <td> Regular Talk</td>\n",
       "      <td> 3</td>\n",
       "      <td> 10</td>\n",
       "      <td> 3.33</td>\n",
       "      <td> False</td>\n",
       "    </tr>\n",
       "  </tbody>\n",
       "</table>\n",
       "</div>"
      ],
      "text/plain": [
       "    ID          Author      Lang  \\\n",
       "0  106             NaN   English   \n",
       "1  104      Scott Tsai   English   \n",
       "2  103     Summit Suen   English   \n",
       "3  102    Ko-Lung Yuan  Mandarin   \n",
       "4  101  Chia-Chi Chang   English   \n",
       "\n",
       "                                              Title   Speech Type  Reviews  \\\n",
       "0                                              test  Regular Talk        7   \n",
       "1        Programmatic Debugging with GDB and Python  Regular Talk        2   \n",
       "2                             Play Data, Play Ball!  Regular Talk        3   \n",
       "3                          Python與電子設計自動化：用愛與堅持實現專業  Regular Talk        6   \n",
       "4  How to build a recommendation system with python  Regular Talk        3   \n",
       "\n",
       "   Sum. Rank  Avg. Rank Review Status  \n",
       "0         20       2.86          True  \n",
       "1          5       2.50         False  \n",
       "2         12       4.00         False  \n",
       "3         26       4.33          True  \n",
       "4         10       3.33         False  "
      ]
     },
     "execution_count": 45,
     "metadata": {},
     "output_type": "execute_result"
    }
   ],
   "source": [
    "df_talks.head()"
   ]
  },
  {
   "cell_type": "code",
   "execution_count": 47,
   "metadata": {
    "collapsed": true
   },
   "outputs": [],
   "source": [
    "r = site._session.get(get_review_url(46))\n",
    "soup = BeautifulSoup(r.content)"
   ]
  },
  {
   "cell_type": "code",
   "execution_count": 52,
   "metadata": {
    "collapsed": true
   },
   "outputs": [],
   "source": [
    "import textwrap\n",
    "import operator"
   ]
  },
  {
   "cell_type": "code",
   "execution_count": 57,
   "metadata": {
    "collapsed": false
   },
   "outputs": [],
   "source": [
    "_, tags, abstract, description, reference = map(operator.attrgetter('text'), soup.select('dl.dl-info dd > pre'))"
   ]
  },
  {
   "cell_type": "code",
   "execution_count": 68,
   "metadata": {
    "collapsed": true
   },
   "outputs": [],
   "source": [
    "wrapper = textwrap.TextWrapper(width=70,  replace_whitespace=False)"
   ]
  },
  {
   "cell_type": "code",
   "execution_count": 71,
   "metadata": {
    "collapsed": false
   },
   "outputs": [
    {
     "data": {
      "text/plain": [
       "'With the scope of cloud services grow from local to worldwide, the\\nneed of hosting cloud services across IaaS providers emerged. This\\nbrings new challenges to cloud services monitor and managements. The\\nCcloud is our solution to provide a unified user interface for cloud\\nservice managements across IaaS providers. Moreover, the Ccloud serves\\nas an automation service management utility that greatly improves the\\nefficiency and minimizes the possible operation errors.'"
      ]
     },
     "execution_count": 71,
     "metadata": {},
     "output_type": "execute_result"
    }
   ],
   "source": [
    "wrapper.fill(abstract)"
   ]
  },
  {
   "cell_type": "code",
   "execution_count": 77,
   "metadata": {
    "collapsed": false
   },
   "outputs": [
    {
     "data": {
      "text/plain": [
       "['Dealing with cloudy days: managing cloud services across IaaS providers in Python',\n",
       " '          by',\n",
       " '          Sean Hsueh']"
      ]
     },
     "execution_count": 77,
     "metadata": {},
     "output_type": "execute_result"
    }
   ],
   "source": []
  },
  {
   "cell_type": "code",
   "execution_count": null,
   "metadata": {
    "collapsed": true
   },
   "outputs": [],
   "source": []
  }
 ],
 "metadata": {
  "kernelspec": {
   "display_name": "Python 3",
   "language": "python",
   "name": "python3"
  },
  "language_info": {
   "codemirror_mode": {
    "name": "ipython",
    "version": 3
   },
   "file_extension": ".py",
   "mimetype": "text/x-python",
   "name": "python",
   "nbconvert_exporter": "python",
   "pygments_lexer": "ipython3",
   "version": "3.4.3"
  }
 },
 "nbformat": 4,
 "nbformat_minor": 0
}
