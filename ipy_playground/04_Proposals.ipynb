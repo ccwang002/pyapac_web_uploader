{
 "cells": [
  {
   "cell_type": "code",
   "execution_count": 1,
   "metadata": {
    "collapsed": false
   },
   "outputs": [],
   "source": [
    "from pathlib import Path\n",
    "import re\n",
    "import urllib\n",
    "\n",
    "from bs4 import BeautifulSoup\n",
    "import requests\n",
    "\n",
    "import pandas as pd"
   ]
  },
  {
   "cell_type": "code",
   "execution_count": 2,
   "metadata": {
    "collapsed": false
   },
   "outputs": [],
   "source": [
    "from pyapacweb import SiteConnector"
   ]
  },
  {
   "cell_type": "code",
   "execution_count": 3,
   "metadata": {
    "collapsed": true
   },
   "outputs": [],
   "source": [
    "site = SiteConnector(url_base='https://tw.pycon.org/2015apac', lang='en')"
   ]
  },
  {
   "cell_type": "code",
   "execution_count": 4,
   "metadata": {
    "collapsed": false
   },
   "outputs": [
    {
     "data": {
      "text/plain": [
       "<Response [200]>"
      ]
     },
     "execution_count": 4,
     "metadata": {},
     "output_type": "execute_result"
    }
   ],
   "source": [
    "r = site.login(keychain_pth='../../2015_content/.web_keychain')\n",
    "r"
   ]
  },
  {
   "cell_type": "code",
   "execution_count": 5,
   "metadata": {
    "collapsed": true
   },
   "outputs": [],
   "source": [
    "proposal_url = r'https://tw.pycon.org/2015apac/admin/proposal/proposalmodel/'"
   ]
  },
  {
   "cell_type": "code",
   "execution_count": 6,
   "metadata": {
    "collapsed": false
   },
   "outputs": [],
   "source": [
    "r = site._session.get(proposal_url)\n",
    "soup = BeautifulSoup(r.content)"
   ]
  },
  {
   "cell_type": "code",
   "execution_count": 7,
   "metadata": {
    "collapsed": false
   },
   "outputs": [],
   "source": [
    "table = soup.find('table')"
   ]
  },
  {
   "cell_type": "code",
   "execution_count": 10,
   "metadata": {
    "collapsed": false
   },
   "outputs": [],
   "source": [
    "df_talks = pd.io.html.read_html(str(table))[0]"
   ]
  },
  {
   "cell_type": "code",
   "execution_count": 13,
   "metadata": {
    "collapsed": false
   },
   "outputs": [
    {
     "data": {
      "text/html": [
       "<div style=\"max-height:1000px;max-width:1500px;overflow:auto;\">\n",
       "<table border=\"1\" class=\"dataframe\">\n",
       "  <thead>\n",
       "    <tr style=\"text-align: right;\">\n",
       "      <th></th>\n",
       "      <th>Unnamed: 0</th>\n",
       "      <th>ID</th>\n",
       "      <th>Create on</th>\n",
       "      <th>Last modified</th>\n",
       "      <th>Title</th>\n",
       "      <th>Author</th>\n",
       "      <th>Type of the proposal</th>\n",
       "      <th>Language</th>\n",
       "      <th>Talk level</th>\n",
       "      <th>Description</th>\n",
       "      <th>Reference</th>\n",
       "    </tr>\n",
       "  </thead>\n",
       "  <tbody>\n",
       "    <tr>\n",
       "      <th>0</th>\n",
       "      <td>NaN</td>\n",
       "      <td> 43</td>\n",
       "      <td>  March 13, 2015, 7:57 p.m.</td>\n",
       "      <td>  March 13, 2015, 7:57 p.m.</td>\n",
       "      <td>                                   Python Tutorial</td>\n",
       "      <td> uranusjr</td>\n",
       "      <td>     Tutorial</td>\n",
       "      <td> Mandarin</td>\n",
       "      <td> Introduction</td>\n",
       "      <td>                          The Mega Python Tutorial</td>\n",
       "      <td> http://www.codecademy.com/en/tracks/python htt...</td>\n",
       "    </tr>\n",
       "    <tr>\n",
       "      <th>1</th>\n",
       "      <td>NaN</td>\n",
       "      <td> 42</td>\n",
       "      <td>  March 13, 2015, 3:56 p.m.</td>\n",
       "      <td>  March 13, 2015, 3:56 p.m.</td>\n",
       "      <td>                      利用 IPython Notebook 來互動簡報與教學</td>\n",
       "      <td>      tjw</td>\n",
       "      <td> Regular Talk</td>\n",
       "      <td> Mandarin</td>\n",
       "      <td> Introduction</td>\n",
       "      <td> 內容除了列出用 IPython Notebook 取代 Slides 的優缺點外，將會包含展...</td>\n",
       "      <td>                                               NaN</td>\n",
       "    </tr>\n",
       "    <tr>\n",
       "      <th>2</th>\n",
       "      <td>NaN</td>\n",
       "      <td> 41</td>\n",
       "      <td>  March 13, 2015, 2:36 a.m.</td>\n",
       "      <td>  March 13, 2015, 2:36 a.m.</td>\n",
       "      <td> Global Interpreter Lock: Episode I - Break the...</td>\n",
       "      <td> tzung-bi</td>\n",
       "      <td> Regular Talk</td>\n",
       "      <td> Mandarin</td>\n",
       "      <td> Introduction</td>\n",
       "      <td> Outline (draft) - What is GIL[1]?  - Why GIL? ...</td>\n",
       "      <td> [1]: https://wiki.python.org/moin/GlobalInterp...</td>\n",
       "    </tr>\n",
       "    <tr>\n",
       "      <th>3</th>\n",
       "      <td>NaN</td>\n",
       "      <td> 40</td>\n",
       "      <td>  March 12, 2015, 3:36 p.m.</td>\n",
       "      <td>  March 12, 2015, 3:36 p.m.</td>\n",
       "      <td>    Google Managed VMs - DevOps如何在操控性與便利性之間取得彼此的優勢</td>\n",
       "      <td>     cage</td>\n",
       "      <td> Regular Talk</td>\n",
       "      <td> Mandarin</td>\n",
       "      <td> Introduction</td>\n",
       "      <td> 本次跟大家分享一下運用Google Cloud上我們所建置的一套開發流程，希望透過這個流程大...</td>\n",
       "      <td> - https://cloud.google.com/appengine/docs/mana...</td>\n",
       "    </tr>\n",
       "    <tr>\n",
       "      <th>4</th>\n",
       "      <td>NaN</td>\n",
       "      <td> 39</td>\n",
       "      <td> March 10, 2015, 11:17 p.m.</td>\n",
       "      <td> March 10, 2015, 11:25 p.m.</td>\n",
       "      <td>                         Python Debugger Uncovered</td>\n",
       "      <td>    traff</td>\n",
       "      <td> Regular Talk</td>\n",
       "      <td>  English</td>\n",
       "      <td>      Extreme</td>\n",
       "      <td> &gt;Debugging is twice as hard as writing the cod...</td>\n",
       "      <td> This is the debugger project I will be talking...</td>\n",
       "    </tr>\n",
       "  </tbody>\n",
       "</table>\n",
       "</div>"
      ],
      "text/plain": [
       "   Unnamed: 0  ID                   Create on               Last modified  \\\n",
       "0         NaN  43   March 13, 2015, 7:57 p.m.   March 13, 2015, 7:57 p.m.   \n",
       "1         NaN  42   March 13, 2015, 3:56 p.m.   March 13, 2015, 3:56 p.m.   \n",
       "2         NaN  41   March 13, 2015, 2:36 a.m.   March 13, 2015, 2:36 a.m.   \n",
       "3         NaN  40   March 12, 2015, 3:36 p.m.   March 12, 2015, 3:36 p.m.   \n",
       "4         NaN  39  March 10, 2015, 11:17 p.m.  March 10, 2015, 11:25 p.m.   \n",
       "\n",
       "                                               Title    Author  \\\n",
       "0                                    Python Tutorial  uranusjr   \n",
       "1                       利用 IPython Notebook 來互動簡報與教學       tjw   \n",
       "2  Global Interpreter Lock: Episode I - Break the...  tzung-bi   \n",
       "3     Google Managed VMs - DevOps如何在操控性與便利性之間取得彼此的優勢      cage   \n",
       "4                          Python Debugger Uncovered     traff   \n",
       "\n",
       "  Type of the proposal  Language    Talk level  \\\n",
       "0             Tutorial  Mandarin  Introduction   \n",
       "1         Regular Talk  Mandarin  Introduction   \n",
       "2         Regular Talk  Mandarin  Introduction   \n",
       "3         Regular Talk  Mandarin  Introduction   \n",
       "4         Regular Talk   English       Extreme   \n",
       "\n",
       "                                         Description  \\\n",
       "0                           The Mega Python Tutorial   \n",
       "1  內容除了列出用 IPython Notebook 取代 Slides 的優缺點外，將會包含展...   \n",
       "2  Outline (draft) - What is GIL[1]?  - Why GIL? ...   \n",
       "3  本次跟大家分享一下運用Google Cloud上我們所建置的一套開發流程，希望透過這個流程大...   \n",
       "4  >Debugging is twice as hard as writing the cod...   \n",
       "\n",
       "                                           Reference  \n",
       "0  http://www.codecademy.com/en/tracks/python htt...  \n",
       "1                                                NaN  \n",
       "2  [1]: https://wiki.python.org/moin/GlobalInterp...  \n",
       "3  - https://cloud.google.com/appengine/docs/mana...  \n",
       "4  This is the debugger project I will be talking...  "
      ]
     },
     "execution_count": 13,
     "metadata": {},
     "output_type": "execute_result"
    }
   ],
   "source": [
    "df_talks.head()"
   ]
  },
  {
   "cell_type": "code",
   "execution_count": 12,
   "metadata": {
    "collapsed": false
   },
   "outputs": [
    {
     "data": {
      "text/plain": [
       "32"
      ]
     },
     "execution_count": 12,
     "metadata": {},
     "output_type": "execute_result"
    }
   ],
   "source": [
    "len(df_talks)"
   ]
  },
  {
   "cell_type": "code",
   "execution_count": 23,
   "metadata": {
    "collapsed": false
   },
   "outputs": [],
   "source": [
    "grouper = df_talks.groupby(['Type of the proposal', 'Language'])"
   ]
  },
  {
   "cell_type": "code",
   "execution_count": 26,
   "metadata": {
    "collapsed": false
   },
   "outputs": [
    {
     "data": {
      "text/plain": [
       "Type of the proposal       Language\n",
       "Lightning Talk             English      2\n",
       "Regular Talk               English     10\n",
       "                           Mandarin    16\n",
       "SciPy Talk (English Only)  English      1\n",
       "Tutorial                   Mandarin     2\n",
       "Workshop                   Mandarin     1\n",
       "dtype: int64"
      ]
     },
     "execution_count": 26,
     "metadata": {},
     "output_type": "execute_result"
    }
   ],
   "source": [
    "grouper.size()"
   ]
  },
  {
   "cell_type": "code",
   "execution_count": null,
   "metadata": {
    "collapsed": true
   },
   "outputs": [],
   "source": []
  }
 ],
 "metadata": {
  "kernelspec": {
   "display_name": "Python 3",
   "language": "python",
   "name": "python3"
  },
  "language_info": {
   "codemirror_mode": {
    "name": "ipython",
    "version": 3
   },
   "file_extension": ".py",
   "mimetype": "text/x-python",
   "name": "python",
   "nbconvert_exporter": "python",
   "pygments_lexer": "ipython3",
   "version": "3.4.3"
  }
 },
 "nbformat": 4,
 "nbformat_minor": 0
}
