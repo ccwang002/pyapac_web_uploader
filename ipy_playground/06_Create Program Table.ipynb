{
 "cells": [
  {
   "cell_type": "code",
   "execution_count": 1,
   "metadata": {
    "collapsed": true
   },
   "outputs": [],
   "source": [
    "from pathlib import Path\n",
    "import re\n",
    "import urllib\n",
    "\n",
    "from bs4 import BeautifulSoup\n",
    "import requests\n",
    "\n",
    "import pandas as pd"
   ]
  },
  {
   "cell_type": "code",
   "execution_count": 2,
   "metadata": {
    "collapsed": true
   },
   "outputs": [],
   "source": [
    "import pyapacweb"
   ]
  },
  {
   "cell_type": "code",
   "execution_count": 3,
   "metadata": {
    "collapsed": false
   },
   "outputs": [
    {
     "data": {
      "text/plain": [
       "<Response [200]>"
      ]
     },
     "execution_count": 3,
     "metadata": {},
     "output_type": "execute_result"
    }
   ],
   "source": [
    "# login\n",
    "site = pyapacweb.SiteConnector(url_base='https://tw.pycon.org/2015apac', lang='en')\n",
    "r = site.login(keychain_pth='./.web_keychain')\n",
    "r"
   ]
  },
  {
   "cell_type": "code",
   "execution_count": 4,
   "metadata": {
    "collapsed": true
   },
   "outputs": [],
   "source": [
    "proposal_review_url = (\n",
    "    r'https://tw.pycon.org/2015apac/en/'\n",
    "    r'proposal_review/proposals'\n",
    ")\n",
    "r = site._session.get(proposal_review_url)\n",
    "soup = BeautifulSoup(r.content)\n",
    "table = soup.find('table')\n",
    "df_talks = pyapacweb.make_review_table(table)"
   ]
  },
  {
   "cell_type": "code",
   "execution_count": 5,
   "metadata": {
    "collapsed": true
   },
   "outputs": [],
   "source": [
    "wanted_columns = ['ID', 'Author', 'Lang', 'Title', 'Speech Type']"
   ]
  },
  {
   "cell_type": "code",
   "execution_count": 6,
   "metadata": {
    "collapsed": false
   },
   "outputs": [],
   "source": [
    "accepted_talks = df_talks[df_talks['Decision'] == 'Accepted'].loc[:, wanted_columns]"
   ]
  },
  {
   "cell_type": "code",
   "execution_count": 7,
   "metadata": {
    "collapsed": false
   },
   "outputs": [],
   "source": [
    "undecided_talks = df_talks[~df_talks.Decision.isin(['Accepted', 'Rejected'])].loc[:, wanted_columns]"
   ]
  },
  {
   "cell_type": "code",
   "execution_count": 8,
   "metadata": {
    "collapsed": false
   },
   "outputs": [
    {
     "data": {
      "text/plain": [
       "Speech Type\n",
       "Lightning Talk                7\n",
       "Regular Talk                 36\n",
       "SciPy Talk (English Only)     5\n",
       "Tutorial                      3\n",
       "Workshop                      4\n",
       "dtype: int64"
      ]
     },
     "execution_count": 8,
     "metadata": {},
     "output_type": "execute_result"
    }
   ],
   "source": [
    "accepted_talks.groupby('Speech Type').size()"
   ]
  },
  {
   "cell_type": "code",
   "execution_count": 10,
   "metadata": {
    "collapsed": false
   },
   "outputs": [
    {
     "data": {
      "text/html": [
       "<div style=\"max-height:1000px;max-width:1500px;overflow:auto;\">\n",
       "<table border=\"1\" class=\"dataframe\">\n",
       "  <thead>\n",
       "    <tr style=\"text-align: right;\">\n",
       "      <th></th>\n",
       "      <th>ID</th>\n",
       "      <th>Author</th>\n",
       "      <th>Lang</th>\n",
       "      <th>Title</th>\n",
       "      <th>Speech Type</th>\n",
       "    </tr>\n",
       "  </thead>\n",
       "  <tbody>\n",
       "    <tr>\n",
       "      <th>22</th>\n",
       "      <td> 50</td>\n",
       "      <td> Takayuki Shimizukawa</td>\n",
       "      <td>  English</td>\n",
       "      <td> Easy contributable internationalizatoin proces...</td>\n",
       "      <td> Regular Talk</td>\n",
       "    </tr>\n",
       "    <tr>\n",
       "      <th>23</th>\n",
       "      <td> 88</td>\n",
       "      <td>          Adrian Liaw</td>\n",
       "      <td> Mandarin</td>\n",
       "      <td>                                        國中打拍 自學經驗談</td>\n",
       "      <td> Regular Talk</td>\n",
       "    </tr>\n",
       "    <tr>\n",
       "      <th>37</th>\n",
       "      <td> 34</td>\n",
       "      <td>          ChunHan Lai</td>\n",
       "      <td> Mandarin</td>\n",
       "      <td>                         雲端語音合成技術應用於長篇文章音文同步有聲書之建立</td>\n",
       "      <td> Regular Talk</td>\n",
       "    </tr>\n",
       "    <tr>\n",
       "      <th>39</th>\n",
       "      <td> 27</td>\n",
       "      <td>            Apua Juan</td>\n",
       "      <td> Mandarin</td>\n",
       "      <td>        ....when thinking functionally with Python</td>\n",
       "      <td> Regular Talk</td>\n",
       "    </tr>\n",
       "    <tr>\n",
       "      <th>40</th>\n",
       "      <td> 63</td>\n",
       "      <td>           Victor Gau</td>\n",
       "      <td> Mandarin</td>\n",
       "      <td>            Creating Map Applications Using Python</td>\n",
       "      <td> Regular Talk</td>\n",
       "    </tr>\n",
       "  </tbody>\n",
       "</table>\n",
       "</div>"
      ],
      "text/plain": [
       "    ID                Author      Lang  \\\n",
       "22  50  Takayuki Shimizukawa   English   \n",
       "23  88           Adrian Liaw  Mandarin   \n",
       "37  34           ChunHan Lai  Mandarin   \n",
       "39  27             Apua Juan  Mandarin   \n",
       "40  63            Victor Gau  Mandarin   \n",
       "\n",
       "                                                Title   Speech Type  \n",
       "22  Easy contributable internationalizatoin proces...  Regular Talk  \n",
       "23                                         國中打拍 自學經驗談  Regular Talk  \n",
       "37                          雲端語音合成技術應用於長篇文章音文同步有聲書之建立  Regular Talk  \n",
       "39         ....when thinking functionally with Python  Regular Talk  \n",
       "40             Creating Map Applications Using Python  Regular Talk  "
      ]
     },
     "execution_count": 10,
     "metadata": {},
     "output_type": "execute_result"
    }
   ],
   "source": [
    "undecided_talks"
   ]
  },
  {
   "cell_type": "code",
   "execution_count": 12,
   "metadata": {
    "collapsed": false
   },
   "outputs": [
    {
     "data": {
      "text/html": [
       "<div style=\"max-height:1000px;max-width:1500px;overflow:auto;\">\n",
       "<table border=\"1\" class=\"dataframe\">\n",
       "  <thead>\n",
       "    <tr style=\"text-align: right;\">\n",
       "      <th></th>\n",
       "      <th>ID</th>\n",
       "      <th>Author</th>\n",
       "      <th>Lang</th>\n",
       "      <th>Title</th>\n",
       "      <th>Speech Type</th>\n",
       "    </tr>\n",
       "  </thead>\n",
       "  <tbody>\n",
       "    <tr>\n",
       "      <th>0</th>\n",
       "      <td> 84</td>\n",
       "      <td>                      Tzu-ping Chung</td>\n",
       "      <td> Mandarin</td>\n",
       "      <td> UnicodeEncodeError: can't encode character in ...</td>\n",
       "      <td> Regular Talk</td>\n",
       "    </tr>\n",
       "    <tr>\n",
       "      <th>1</th>\n",
       "      <td> 56</td>\n",
       "      <td> Melvin Foo Hannie Ching Tan Le Xuan</td>\n",
       "      <td>  English</td>\n",
       "      <td>                                           RPyScan</td>\n",
       "      <td> Regular Talk</td>\n",
       "    </tr>\n",
       "    <tr>\n",
       "      <th>2</th>\n",
       "      <td> 24</td>\n",
       "      <td>                       Liang Bo Wang</td>\n",
       "      <td> Mandarin</td>\n",
       "      <td>                              Python HDF5 Use Case</td>\n",
       "      <td> Regular Talk</td>\n",
       "    </tr>\n",
       "    <tr>\n",
       "      <th>3</th>\n",
       "      <td> 25</td>\n",
       "      <td>                            Dan Maas</td>\n",
       "      <td> Mandarin</td>\n",
       "      <td>        MMO Game Server Design with Twisted Python</td>\n",
       "      <td> Regular Talk</td>\n",
       "    </tr>\n",
       "    <tr>\n",
       "      <th>4</th>\n",
       "      <td> 91</td>\n",
       "      <td>                         Chia-Yi Yen</td>\n",
       "      <td>  English</td>\n",
       "      <td> Millions way to avoid overfitting when buildin...</td>\n",
       "      <td> Regular Talk</td>\n",
       "    </tr>\n",
       "  </tbody>\n",
       "</table>\n",
       "</div>"
      ],
      "text/plain": [
       "   ID                               Author      Lang  \\\n",
       "0  84                       Tzu-ping Chung  Mandarin   \n",
       "1  56  Melvin Foo Hannie Ching Tan Le Xuan   English   \n",
       "2  24                        Liang Bo Wang  Mandarin   \n",
       "3  25                             Dan Maas  Mandarin   \n",
       "4  91                          Chia-Yi Yen   English   \n",
       "\n",
       "                                               Title   Speech Type  \n",
       "0  UnicodeEncodeError: can't encode character in ...  Regular Talk  \n",
       "1                                            RPyScan  Regular Talk  \n",
       "2                               Python HDF5 Use Case  Regular Talk  \n",
       "3         MMO Game Server Design with Twisted Python  Regular Talk  \n",
       "4  Millions way to avoid overfitting when buildin...  Regular Talk  "
      ]
     },
     "execution_count": 12,
     "metadata": {},
     "output_type": "execute_result"
    }
   ],
   "source": [
    "accepted_talks.head()"
   ]
  },
  {
   "cell_type": "code",
   "execution_count": 20,
   "metadata": {
    "collapsed": false
   },
   "outputs": [],
   "source": [
    "grouped = accepted_talks.sort(['Speech Type', 'Lang', 'Author', 'Title']).groupby(['Speech Type'])"
   ]
  },
  {
   "cell_type": "code",
   "execution_count": 28,
   "metadata": {
    "collapsed": true
   },
   "outputs": [],
   "source": [
    "from jinja2 import Template"
   ]
  },
  {
   "cell_type": "code",
   "execution_count": 39,
   "metadata": {
    "collapsed": true
   },
   "outputs": [],
   "source": [
    "talk_table_tpl = Template('''\\\n",
    "<table>\n",
    "  <thead>\n",
    "    <tr>\n",
    "      <th>ID</th> <th>Speaker</th> <th>Lang</th> <th>Title</th>\n",
    "    </tr>\n",
    "  </thead>\n",
    "  <tbody>\n",
    "    {% for _, talk in talks %}\n",
    "    <tr>\n",
    "      <td>{{ talk.ID }}</td> <td>{{ talk.Author }}</td> <td>{{ talk.Lang }}</td> <td>{{ talk.Title }}</td>\n",
    "    </tr>\n",
    "    {% endfor %}\n",
    "  </tbody>\n",
    "</table>\n",
    "''')"
   ]
  },
  {
   "cell_type": "code",
   "execution_count": 42,
   "metadata": {
    "collapsed": false
   },
   "outputs": [],
   "source": [
    "regular_talks = grouped.get_group('Regular Talk')\n",
    "scipy_talks = grouped.get_group('SciPy Talk (English Only)')\n",
    "lightning_talks = grouped.get_group('Lightning Talk')"
   ]
  },
  {
   "cell_type": "code",
   "execution_count": 50,
   "metadata": {
    "collapsed": true
   },
   "outputs": [],
   "source": [
    "def create_talk_table(talk_df):\n",
    "    rendered_html = talk_table_tpl.render(talks=talk_df.iterrows())\n",
    "    return '\\n'.join(\n",
    "        line for line in rendered_html.splitlines() if line.strip()  # clean trailing whitespace\n",
    "    )"
   ]
  },
  {
   "cell_type": "code",
   "execution_count": 54,
   "metadata": {
    "collapsed": false,
    "scrolled": false
   },
   "outputs": [
    {
     "data": {
      "text/plain": [
       "\"<table>\\n  <thead>\\n    <tr>\\n      <th>ID</th> <th>Speaker</th> <th>Lang</th> <th>Title</th>\\n    </tr>\\n  </thead>\\n  <tbody>\\n    <tr>\\n      <td>100</td> <td>Chih-Cheng Liang</td> <td>English</td> <td>Learning machine learning Python agilely</td>\\n    </tr>\\n    <tr>\\n      <td>23</td> <td>Chiu-Hsiang Hsu</td> <td>English</td> <td>CPython's bug in feature that nobody uses</td>\\n    </tr>\\n    <tr>\\n      <td>51</td> <td>Lee Yang Peng</td> <td>English</td> <td>Network Security and Analysis system with Python</td>\\n    </tr>\\n    <tr>\\n      <td>75</td> <td>Shunsuke Hida</td> <td>English</td> <td>The Effectiveness of Unit Tests in Django Backend Engineering of Large-scale Web Service</td>\\n    </tr>\\n    <tr>\\n      <td>33</td> <td>Albert Huang</td> <td>Mandarin</td> <td>Preprocessing Chinese Characters for LaTeX: pycwtex</td>\\n    </tr>\\n    <tr>\\n      <td>28</td> <td>Apua Juan</td> <td>Mandarin</td> <td>開發小工具的心得</td>\\n    </tr>\\n    <tr>\\n      <td>44</td> <td>meng-hao chung</td> <td>Mandarin</td> <td>網頁爬蟲由淺入淺</td>\\n    </tr>\\n  </tbody>\\n</table>\""
      ]
     },
     "execution_count": 54,
     "metadata": {},
     "output_type": "execute_result"
    }
   ],
   "source": [
    "create_talk_table(lightning_talks)"
   ]
  },
  {
   "cell_type": "code",
   "execution_count": null,
   "metadata": {
    "collapsed": true
   },
   "outputs": [],
   "source": []
  }
 ],
 "metadata": {
  "kernelspec": {
   "display_name": "Python 3",
   "language": "python",
   "name": "python3"
  },
  "language_info": {
   "codemirror_mode": {
    "name": "ipython",
    "version": 3
   },
   "file_extension": ".py",
   "mimetype": "text/x-python",
   "name": "python",
   "nbconvert_exporter": "python",
   "pygments_lexer": "ipython3",
   "version": "3.4.3"
  }
 },
 "nbformat": 4,
 "nbformat_minor": 0
}
